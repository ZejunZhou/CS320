{
 "cells": [
  {
   "cell_type": "code",
   "execution_count": 1,
   "id": "6763e283",
   "metadata": {},
   "outputs": [],
   "source": [
    "# project: p2\n",
    "# submitter: zzhou443\n",
    "# partner: none\n",
    "# hours: 9"
   ]
  },
  {
   "cell_type": "code",
   "execution_count": 2,
   "id": "f02c0652",
   "metadata": {},
   "outputs": [],
   "source": [
    "import loans\n",
    "import matplotlib.pyplot as plt\n",
    "import pandas as pd\n",
    "import search\n",
    "from time import time"
   ]
  },
  {
   "cell_type": "code",
   "execution_count": 3,
   "id": "09f9f115",
   "metadata": {},
   "outputs": [],
   "source": [
    "%load_ext autoreload\n",
    "%autoreload 2"
   ]
  },
  {
   "cell_type": "code",
   "execution_count": 4,
   "id": "7b4e6705",
   "metadata": {},
   "outputs": [
    {
     "data": {
      "text/plain": [
       "{'American Indian or Alaska Native'}"
      ]
     },
     "execution_count": 4,
     "metadata": {},
     "output_type": "execute_result"
    }
   ],
   "source": [
    "applicant = loans.Applicant(3, 1)\n",
    "applicant.race"
   ]
  },
  {
   "cell_type": "code",
   "execution_count": 5,
   "id": "e7cfbb6d",
   "metadata": {},
   "outputs": [
    {
     "data": {
      "text/plain": [
       "{'American Indian or Alaska Native', 'Asian', 'Black or African American'}"
      ]
     },
     "execution_count": 5,
     "metadata": {},
     "output_type": "execute_result"
    }
   ],
   "source": [
    "applicant = loans.Applicant(\"<20\", [\"1\", \"2\", \"3\"])\n",
    "applicant.race"
   ]
  },
  {
   "cell_type": "code",
   "execution_count": 6,
   "id": "15eeae3f",
   "metadata": {},
   "outputs": [
    {
     "data": {
      "text/plain": [
       "\"Applicant('<20', ['American Indian or Alaska Native', 'Asian', 'Black or African American'])\""
      ]
     },
     "execution_count": 6,
     "metadata": {},
     "output_type": "execute_result"
    }
   ],
   "source": [
    "repr(applicant)"
   ]
  },
  {
   "cell_type": "code",
   "execution_count": 7,
   "id": "1baf7abe",
   "metadata": {},
   "outputs": [
    {
     "data": {
      "text/plain": [
       "20"
      ]
     },
     "execution_count": 7,
     "metadata": {},
     "output_type": "execute_result"
    }
   ],
   "source": [
    "applicant.lower_age()"
   ]
  },
  {
   "cell_type": "code",
   "execution_count": 8,
   "id": "507fcd5a",
   "metadata": {},
   "outputs": [
    {
     "data": {
      "text/plain": [
       "[Applicant('20-30', ['American Indian or Alaska Native', 'Black or African American']),\n",
       " Applicant('<25', ['White']),\n",
       " Applicant('35-44', ['Chinese']),\n",
       " Applicant('>75', ['Other Pacific Islander', 'Samoan'])]"
      ]
     },
     "execution_count": 8,
     "metadata": {},
     "output_type": "execute_result"
    }
   ],
   "source": [
    "sorted([\n",
    "    loans.Applicant(\">75\", [\"43\", \"44\"]),\n",
    "    loans.Applicant(\"20-30\", [\"1\", \"3\"]),\n",
    "    loans.Applicant(\"35-44\", [\"22\"]),\n",
    "    loans.Applicant(\"<25\", [\"5\"]),\n",
    "])"
   ]
  },
  {
   "cell_type": "code",
   "execution_count": 9,
   "id": "9691dad6",
   "metadata": {},
   "outputs": [],
   "source": [
    "values = {'activity_year': '2020', 'lei': '549300FX7K8PTEQUU487', 'derived_msa-md': '31540', 'state_code': 'WI',\n",
    "         'county_code': '55025', 'census_tract': '55025002402', 'conforming_loan_limit': 'C',\n",
    "         'derived_loan_product_type': 'Conventional:First Lien',\n",
    "         'derived_dwelling_category': 'Single Family (1-4 Units):Site-Built',\n",
    "         'derived_ethnicity': 'Not Hispanic or Latino', 'derived_race': 'White', 'derived_sex': 'Male',\n",
    "         'action_taken': '3', 'purchaser_type': '0', 'preapproval': '2', 'loan_type': '1', 'loan_purpose': '4',\n",
    "         'lien_status': '1', 'reverse_mortgage': '2', 'open-end_line_of_credit': '1',\n",
    "         'business_or_commercial_purpose': '2', 'loan_amount': '225000.0', 'loan_to_value_ratio': '78.671',\n",
    "         'interest_rate': '3.000', 'rate_spread': 'NA', 'hoepa_status': '3', 'total_loan_costs': 'NA',\n",
    "         'total_points_and_fees': 'NA', 'origination_charges': 'NA', 'discount_points': 'NA',\n",
    "         'lender_credits': 'NA', 'loan_term': '360', 'prepayment_penalty_term': 'NA', 'intro_rate_period': '1',\n",
    "         'negative_amortization': '2', 'interest_only_payment': '2', 'balloon_payment': '2',\n",
    "         'other_nonamortizing_features': '2', 'property_value': '285000', 'construction_method': '1',\n",
    "         'occupancy_type': '1', 'manufactured_home_secured_property_type': '3',\n",
    "         'manufactured_home_land_property_interest': '5', 'total_units': '1', 'multifamily_affordable_units': 'NA',\n",
    "         'income': '0', 'debt_to_income_ratio': '>60%', 'applicant_credit_score_type': '1',\n",
    "         'co-applicant_credit_score_type': '10', 'applicant_ethnicity-1': '2', 'applicant_ethnicity-2': '',\n",
    "         'applicant_ethnicity-3': '', 'applicant_ethnicity-4': '', 'applicant_ethnicity-5': '',\n",
    "         'co-applicant_ethnicity-1': '5', 'co-applicant_ethnicity-2': '', 'co-applicant_ethnicity-3': '',\n",
    "         'co-applicant_ethnicity-4': '', 'co-applicant_ethnicity-5': '', 'applicant_ethnicity_observed': '2',\n",
    "         'co-applicant_ethnicity_observed': '4', 'applicant_race-1': '5', 'applicant_race-2': '',\n",
    "         'applicant_race-3': '', 'applicant_race-4': '', 'applicant_race-5': '', 'co-applicant_race-1': '8',\n",
    "         'co-applicant_race-2': '', 'co-applicant_race-3': '', 'co-applicant_race-4': '', 'co-applicant_race-5': '',\n",
    "         'applicant_race_observed': '2', 'co-applicant_race_observed': '4', 'applicant_sex': '1',\n",
    "         'co-applicant_sex': '5', 'applicant_sex_observed': '2', 'co-applicant_sex_observed': '4',\n",
    "         'applicant_age': '55-64', 'co-applicant_age': '9999', 'applicant_age_above_62': 'Yes',\n",
    "         'co-applicant_age_above_62': 'NA', 'submission_of_application': '1', 'initially_payable_to_institution': '1',\n",
    "         'aus-1': '6', 'aus-2': '', 'aus-3': '', 'aus-4': '', 'aus-5': '', 'denial_reason-1': '1',\n",
    "         'denial_reason-2': '', 'denial_reason-3': '', 'denial_reason-4': '', 'tract_population': '3572',\n",
    "         'tract_minority_population_percent': '41.1499999999999986', 'ffiec_msa_md_median_family_income': '96600',\n",
    "         'tract_to_msa_income_percentage': '64', 'tract_owner_occupied_units': '812',\n",
    "         'tract_one_to_four_family_homes': '910', 'tract_median_age_of_housing_units': '45'}"
   ]
  },
  {
   "cell_type": "code",
   "execution_count": 10,
   "id": "eb434587",
   "metadata": {},
   "outputs": [],
   "source": [
    "loan = loans.Loan(values)"
   ]
  },
  {
   "cell_type": "code",
   "execution_count": 11,
   "id": "dd98b6a7",
   "metadata": {},
   "outputs": [
    {
     "data": {
      "text/plain": [
       "3.0"
      ]
     },
     "execution_count": 11,
     "metadata": {},
     "output_type": "execute_result"
    }
   ],
   "source": [
    "loan.interest_rate"
   ]
  },
  {
   "cell_type": "code",
   "execution_count": 12,
   "id": "03eca6cb",
   "metadata": {},
   "outputs": [
    {
     "data": {
      "text/plain": [
       "[Applicant('55-64', ['White'])]"
      ]
     },
     "execution_count": 12,
     "metadata": {},
     "output_type": "execute_result"
    }
   ],
   "source": [
    "loan.applicants"
   ]
  },
  {
   "cell_type": "code",
   "execution_count": 13,
   "id": "8d2440bd",
   "metadata": {},
   "outputs": [
    {
     "name": "stdout",
     "output_type": "stream",
     "text": [
      "<Loan: 3.0% on $285000.0 with 1 applicant(s)>\n"
     ]
    }
   ],
   "source": [
    "print(loan)"
   ]
  },
  {
   "cell_type": "code",
   "execution_count": 14,
   "id": "a46d41ea",
   "metadata": {},
   "outputs": [
    {
     "name": "stdout",
     "output_type": "stream",
     "text": [
      "225000.0\n",
      "211750.0\n",
      "198102.5\n",
      "184045.575\n",
      "169566.94225000002\n",
      "154653.95051750002\n",
      "139293.56903302504\n",
      "123472.3761040158\n",
      "107176.54738713628\n",
      "90391.84380875036\n",
      "73103.59912301287\n",
      "55296.70709670326\n",
      "36955.60830960436\n",
      "18064.27655889249\n"
     ]
    }
   ],
   "source": [
    "for amt in loan.yearly_amounts(20000):\n",
    "    print(amt)"
   ]
  },
  {
   "cell_type": "code",
   "execution_count": 15,
   "id": "7ecf5bef",
   "metadata": {},
   "outputs": [],
   "source": [
    "list_bank = pd.read_json(\"banks.json\")"
   ]
  },
  {
   "cell_type": "code",
   "execution_count": 16,
   "id": "36dc7971",
   "metadata": {},
   "outputs": [
    {
     "data": {
      "text/plain": [
       "'254900CN1DD55MJDFH69'"
      ]
     },
     "execution_count": 16,
     "metadata": {},
     "output_type": "execute_result"
    }
   ],
   "source": [
    "lei = 0\n",
    "for i in range(len(list_bank)):\n",
    "    if list_bank.loc[i][\"name\"] == \"University of Wisconsin Credit Union\":\n",
    "        lei = list_bank.loc[i][\"lei\"]\n",
    "lei"
   ]
  },
  {
   "cell_type": "code",
   "execution_count": 17,
   "id": "4c4a1796",
   "metadata": {},
   "outputs": [
    {
     "data": {
      "text/plain": [
       "'254900CN1DD55MJDFH69'"
      ]
     },
     "execution_count": 17,
     "metadata": {},
     "output_type": "execute_result"
    }
   ],
   "source": [
    "uwcu = loans.Bank(\"University of Wisconsin Credit Union\")\n",
    "uwcu.lei"
   ]
  },
  {
   "cell_type": "code",
   "execution_count": 18,
   "id": "4106b8ee",
   "metadata": {},
   "outputs": [],
   "source": [
    "#import zipfile\n",
    "#import io\n",
    "#import csv\n",
    "\n",
    "#zf = zipfile.ZipFile(\"wi.zip\")\n",
    "#f = zf.open(\"wi.csv\")\n",
    "#reader = csv.DictReader(io.TextIOWrapper(f))\n",
    "#print(uwcu.bank_loan_list[-1])"
   ]
  },
  {
   "cell_type": "code",
   "execution_count": 19,
   "id": "4ec914d2",
   "metadata": {},
   "outputs": [
    {
     "data": {
      "text/plain": [
       "21153"
      ]
     },
     "execution_count": 19,
     "metadata": {},
     "output_type": "execute_result"
    }
   ],
   "source": [
    "len(uwcu.bank_loan_list)"
   ]
  },
  {
   "cell_type": "code",
   "execution_count": 20,
   "id": "697d7f9e",
   "metadata": {},
   "outputs": [
    {
     "data": {
      "text/plain": [
       "21153"
      ]
     },
     "execution_count": 20,
     "metadata": {},
     "output_type": "execute_result"
    }
   ],
   "source": [
    "len(uwcu)"
   ]
  },
  {
   "cell_type": "code",
   "execution_count": 21,
   "id": "27a6bd5d",
   "metadata": {},
   "outputs": [
    {
     "data": {
      "text/plain": [
       "<Loan: 2.99% on $185000.0 with 2 applicant(s)>"
      ]
     },
     "execution_count": 21,
     "metadata": {},
     "output_type": "execute_result"
    }
   ],
   "source": [
    "uwcu[-1]"
   ]
  },
  {
   "cell_type": "code",
   "execution_count": null,
   "id": "f6110c34",
   "metadata": {},
   "outputs": [],
   "source": []
  },
  {
   "cell_type": "code",
   "execution_count": 22,
   "id": "924e2fb2",
   "metadata": {},
   "outputs": [
    {
     "name": "stdout",
     "output_type": "stream",
     "text": [
      "C : [33]\n",
      "B : [22]\n",
      "A : [9, 5]\n"
     ]
    }
   ],
   "source": [
    "tree = search.BST()\n",
    "tree.add(\"A\", 9)\n",
    "tree.add(\"A\", 5)\n",
    "tree.add(\"B\", 22)\n",
    "tree.add(\"C\", 33)\n",
    "tree.dump()"
   ]
  },
  {
   "cell_type": "code",
   "execution_count": 23,
   "id": "d495ff3b",
   "metadata": {},
   "outputs": [],
   "source": [
    "t = search.BST()\n",
    "t.add(\"B\", 3)\n",
    "assert len(t.root) == 1\n",
    "t.add(\"A\", 2)\n",
    "assert len(t.root) == 2\n",
    "t.add(\"C\", 1)\n",
    "assert len(t.root) == 3\n",
    "t.add(\"C\", 4)\n",
    "assert len(t.root) == 4\n"
   ]
  },
  {
   "cell_type": "code",
   "execution_count": 24,
   "id": "6d3e6ff3",
   "metadata": {},
   "outputs": [
    {
     "data": {
      "text/plain": [
       "[1, 4]"
      ]
     },
     "execution_count": 24,
     "metadata": {},
     "output_type": "execute_result"
    }
   ],
   "source": [
    "t.root.lookup(\"C\")\n",
    "t[\"C\"]"
   ]
  },
  {
   "cell_type": "code",
   "execution_count": null,
   "id": "9fddae57",
   "metadata": {},
   "outputs": [],
   "source": []
  },
  {
   "cell_type": "code",
   "execution_count": null,
   "id": "d172ea94",
   "metadata": {},
   "outputs": [],
   "source": []
  },
  {
   "cell_type": "code",
   "execution_count": null,
   "id": "05b111d5",
   "metadata": {},
   "outputs": [],
   "source": []
  },
  {
   "cell_type": "code",
   "execution_count": 25,
   "id": "470fb9f7",
   "metadata": {},
   "outputs": [],
   "source": [
    "bank = loans.Bank(\"First Home Bank\")\n",
    "assert bank.lei == \"549300DMI3W6YLDVSK93\""
   ]
  },
  {
   "cell_type": "code",
   "execution_count": 26,
   "id": "b3332ea5",
   "metadata": {},
   "outputs": [
    {
     "data": {
      "text/plain": [
       "2.962962962962963"
      ]
     },
     "execution_count": 26,
     "metadata": {},
     "output_type": "execute_result"
    }
   ],
   "source": [
    "#Q1: what is the average interest rate for the bank?\n",
    "#Skip missing loans where the interest rate is not specified in your calculation\n",
    "total = 0\n",
    "bank_num = 0\n",
    "for i in range(len(bank)):\n",
    "    if bank[i].interest_rate == -1:\n",
    "        continue\n",
    "    else:\n",
    "        bank_num = bank_num + 1\n",
    "        total = total + bank[i].interest_rate\n",
    "total / bank_num"
   ]
  },
  {
   "cell_type": "code",
   "execution_count": 27,
   "id": "b6f29e34",
   "metadata": {},
   "outputs": [
    {
     "data": {
      "text/plain": [
       "1.5777777777777777"
      ]
     },
     "execution_count": 27,
     "metadata": {},
     "output_type": "execute_result"
    }
   ],
   "source": [
    "#Q2: how many applicants are there per loan, on average?\n",
    "loan_num = 0\n",
    "applicant_num = 0\n",
    "\n",
    "for i in range(len(bank)):\n",
    "    applicant_num = applicant_num + len(bank[i].applicants)\n",
    "    loan_num = loan_num + 1\n",
    "applicant_num / loan_num"
   ]
  },
  {
   "cell_type": "code",
   "execution_count": 28,
   "id": "0f1f8f54",
   "metadata": {},
   "outputs": [
    {
     "data": {
      "text/plain": [
       "{'65-74': 21, '45-54': 21, '>74': 5, '25-34': 4, '35-44': 13, '55-64': 7}"
      ]
     },
     "execution_count": 28,
     "metadata": {},
     "output_type": "execute_result"
    }
   ],
   "source": [
    "#Q3: what is the distribution of ages?\n",
    "dic_age = {}\n",
    "\n",
    "for i in range(len(bank)):\n",
    "    for j in range(len(bank[i].applicants)):\n",
    "        if (bank[i].applicants[j].age) not in dic_age:\n",
    "            dic_age[bank[i].applicants[j].age] = 1\n",
    "        else:\n",
    "            dic_age[bank[i].applicants[j].age] = dic_age[bank[i].applicants[j].age] + 1\n",
    "dic_age"
   ]
  },
  {
   "cell_type": "code",
   "execution_count": 29,
   "id": "7dbe279e",
   "metadata": {},
   "outputs": [],
   "source": [
    "tree = search.BST()\n",
    "for i in range(len(bank)):\n",
    "    tree.add(bank[i].interest_rate, bank[i])"
   ]
  },
  {
   "cell_type": "code",
   "execution_count": 30,
   "id": "b052cae4",
   "metadata": {},
   "outputs": [
    {
     "data": {
      "text/plain": [
       "18"
      ]
     },
     "execution_count": 30,
     "metadata": {},
     "output_type": "execute_result"
    }
   ],
   "source": [
    "#Q4 how many interest rate values are missing?\n",
    "len(tree[-1])"
   ]
  },
  {
   "cell_type": "code",
   "execution_count": 31,
   "id": "38690324",
   "metadata": {},
   "outputs": [],
   "source": [
    "def count_height(root):\n",
    "    if root == None: \n",
    "        return 0\n",
    "    return 1 + (max(count_height(root.left), count_height(root.right)))"
   ]
  },
  {
   "cell_type": "code",
   "execution_count": 32,
   "id": "653477f2",
   "metadata": {},
   "outputs": [
    {
     "data": {
      "text/plain": [
       "9"
      ]
     },
     "execution_count": 32,
     "metadata": {},
     "output_type": "execute_result"
    }
   ],
   "source": [
    "#Q5: how tall is the tree?\n",
    "count_height(tree.root)"
   ]
  },
  {
   "cell_type": "code",
   "execution_count": 33,
   "id": "232cf133",
   "metadata": {},
   "outputs": [],
   "source": [
    "bank = loans.Bank(\"University of Wisconsin Credit Union\")"
   ]
  },
  {
   "cell_type": "code",
   "execution_count": 34,
   "id": "827fa238",
   "metadata": {},
   "outputs": [],
   "source": [
    "tree = search.BST()"
   ]
  },
  {
   "cell_type": "code",
   "execution_count": 35,
   "id": "69df2c5e",
   "metadata": {},
   "outputs": [],
   "source": [
    "time_list = []\n",
    "time_list.append(0)\n",
    "time_total = 0\n",
    "x_axis = []\n",
    "x_axis.append(0)\n",
    "x = 0\n",
    "for i in range(len(bank)):\n",
    "    time_before = time()\n",
    "    tree.add(bank[i].interest_rate, bank[i])\n",
    "    time_after = time()\n",
    "    time_total = time_total + (time_after - time_before)\n",
    "    time_list.append(time_total)\n",
    "    x = x + 1\n",
    "    x_axis.append(x)"
   ]
  },
  {
   "cell_type": "code",
   "execution_count": 36,
   "id": "a7879c82",
   "metadata": {},
   "outputs": [],
   "source": [
    "import pandas as pd\n",
    "df = pd.DataFrame(pd.Series(time_list, index = x_axis))"
   ]
  },
  {
   "cell_type": "code",
   "execution_count": 37,
   "id": "d0a69973",
   "metadata": {},
   "outputs": [
    {
     "data": {
      "text/plain": [
       "Text(0, 0.5, 'Total Elapsed Milliseconds')"
      ]
     },
     "execution_count": 37,
     "metadata": {},
     "output_type": "execute_result"
    },
    {
     "data": {
      "image/png": "[encoded data removed]",
      "text/plain": [
       "<Figure size 432x288 with 1 Axes>"
      ]
     },
     "metadata": {
      "needs_background": "light"
     },
     "output_type": "display_data"
    }
   ],
   "source": [
    "#Q6\n",
    "graph = df.plot.line(yticks = [0, 0.01, 0.02, 0.03], legend = False)\n",
    "graph.set_yticklabels([0, 10, 20, 30])\n",
    "graph.set_xlabel(\"BST Adds\")\n",
    "graph.set_ylabel(\"Total Elapsed Milliseconds\")"
   ]
  },
  {
   "cell_type": "code",
   "execution_count": 38,
   "id": "d17c0a90",
   "metadata": {},
   "outputs": [],
   "source": [
    "Loop = 0\n",
    "missing = 0\n",
    "time_start = time()\n",
    "for i in range(len(bank)):\n",
    "    if bank[i].interest_rate == -1:\n",
    "        missing = missing + 1\n",
    "time_end = time()\n",
    "Loop = time_end - time_start"
   ]
  },
  {
   "cell_type": "code",
   "execution_count": 39,
   "id": "8c8741e3",
   "metadata": {},
   "outputs": [
    {
     "data": {
      "text/plain": [
       "Text(0, 0.5, 'Milliseconds')"
      ]
     },
     "execution_count": 39,
     "metadata": {},
     "output_type": "execute_result"
    },
    {
     "data": {
      "image/png": "[encoded data removed]",
      "text/plain": [
       "<Figure size 432x288 with 1 Axes>"
      ]
     },
     "metadata": {
      "needs_background": "light"
     },
     "output_type": "display_data"
    }
   ],
   "source": [
    "#Q7: how fast are tree lookups?\n",
    "BST = 0\n",
    "time_start = time()\n",
    "len(tree[-1])\n",
    "time_end = time()\n",
    "BST = time_end - time_start\n",
    "data = {\"Loop\": Loop, \"BST\": BST}\n",
    "df = pd.DataFrame([Loop, BST], index = [\"Loop\", \"BST\"])\n",
    "graph = df.plot.bar(legend = False, yticks = [0, 0.002, 0.004, 0.006, 0.008, 0.01])\n",
    "graph.set_yticklabels([0, 2, 4, 6, 8, 10])\n",
    "graph.set_ylabel(\"Milliseconds\")"
   ]
  },
  {
   "cell_type": "code",
   "execution_count": 40,
   "id": "13bc7925",
   "metadata": {},
   "outputs": [
    {
     "data": {
      "text/plain": [
       "Text(0, 0.5, 'amount')"
      ]
     },
     "execution_count": 40,
     "metadata": {},
     "output_type": "execute_result"
    },
    {
     "data": {
      "image/png": "[encoded data removed]",
      "text/plain": [
       "<Figure size 432x288 with 1 Axes>"
      ]
     },
     "metadata": {
      "needs_background": "light"
     },
     "output_type": "display_data"
    }
   ],
   "source": [
    "#Q8: what is the relationship between property value and loan amount?\n",
    "value_list = []\n",
    "amt_list = []\n",
    "for i in range(len(bank)):\n",
    "    if bank[i].interest_rate == -1:\n",
    "        continue\n",
    "    if bank[i].property_value > 1000000:\n",
    "        continue\n",
    "    value_list.append(bank[i].property_value)\n",
    "    amt_list.append(bank[i].loan_amount)\n",
    "x = value_list\n",
    "y = amt_list\n",
    "graph = plt.scatter(x, y, color = \"black\", alpha = 0.01)\n",
    "plt.yticks([0, 200000, 400000, 600000, 800000])\n",
    "plt.xlabel(\"value\")\n",
    "plt.ylabel(\"amount\")"
   ]
  },
  {
   "cell_type": "code",
   "execution_count": 41,
   "id": "70bb33ae",
   "metadata": {},
   "outputs": [
    {
     "data": {
      "text/plain": [
       "Text(0, 0.5, 'number of applicants')"
      ]
     },
     "execution_count": 41,
     "metadata": {},
     "output_type": "execute_result"
    },
    {
     "data": {
      "image/png": "[encoded data removed]",
      "text/plain": [
       "<Figure size 432x288 with 1 Axes>"
      ]
     },
     "metadata": {
      "needs_background": "light"
     },
     "output_type": "display_data"
    }
   ],
   "source": [
    "#Q9: what is the distribution of race for UWCU loan applicants?\n",
    "dic_race = {}\n",
    "for i in range(len(bank)):\n",
    "    for j in range(len(bank[i].applicants)):\n",
    "        for k in bank[i].applicants[j].race:\n",
    "            if k not in dic_race:\n",
    "                dic_race[k] = 1\n",
    "            else:\n",
    "                dic_race[k] = dic_race[k] + 1\n",
    "dic_race\n",
    "\n",
    "df = pd.DataFrame(dic_race.values(), index = dic_race.keys())\n",
    "graph = df.plot.bar(legend = False)\n",
    "graph.set_xlabel(\"race\")\n",
    "graph.set_ylabel(\"number of applicants\")"
   ]
  },
  {
   "cell_type": "code",
   "execution_count": 42,
   "id": "adf635a2",
   "metadata": {},
   "outputs": [],
   "source": [
    "def count_node(root):\n",
    "    if root == None:\n",
    "        return 0\n",
    "    return 1 + count_node(root.left) + count_node(root.right)"
   ]
  },
  {
   "cell_type": "code",
   "execution_count": 43,
   "id": "05489d9e",
   "metadata": {},
   "outputs": [
    {
     "data": {
      "text/plain": [
       "32"
      ]
     },
     "execution_count": 43,
     "metadata": {},
     "output_type": "execute_result"
    }
   ],
   "source": [
    "#Q10\n",
    "count_node(tree.root)"
   ]
  },
  {
   "cell_type": "code",
   "execution_count": null,
   "id": "eda66d5f",
   "metadata": {},
   "outputs": [],
   "source": []
  },
  {
   "cell_type": "code",
   "execution_count": null,
   "id": "c90e10bb",
   "metadata": {},
   "outputs": [],
   "source": []
  }
 ],
 "metadata": {
  "kernelspec": {
   "display_name": "Python 3 (ipykernel)",
   "language": "python",
   "name": "python3"
  },
  "language_info": {
   "codemirror_mode": {
    "name": "ipython",
    "version": 3
   },
   "file_extension": ".py",
   "mimetype": "text/x-python",
   "name": "python",
   "nbconvert_exporter": "python",
   "pygments_lexer": "ipython3",
   "version": "3.8.10"
  }
 },
 "nbformat": 4,
 "nbformat_minor": 5
}
